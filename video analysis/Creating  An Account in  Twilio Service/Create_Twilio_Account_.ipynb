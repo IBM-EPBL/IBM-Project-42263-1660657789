{
  "nbformat": 4,
  "nbformat_minor": 0,
  "metadata": {
    "colab": {
      "provenance": []
    },
    "kernelspec": {
      "name": "python3",
      "display_name": "Python 3"
    },
    "language_info": {
      "name": "python"
    }
  },
  "cells": [
    {
      "cell_type": "code",
      "execution_count": null,
      "metadata": {
        "id": "5Bn5_pOfPcRI"
      },
      "outputs": [],
      "source": [
        "account_sid = 'ACd09c7dfa196789687483788953bc13024c09a'\n",
        "auth_token = 'e9b6b25a77c65fg33643746ge0ba0b755'\n",
        "client = Client(account_sid, auth_token)\n",
        "\n",
        "message = client.messages \\\n",
        "    .create(\n",
        "         body='Forest fire is detected , stay alert',\n",
        "         from_='+16075363954',\n",
        "         to='+917639764251'\n",
        "     \n",
        "     )\n",
        "\n",
        "print(message.sid)"
      ]
    }
  ]
}